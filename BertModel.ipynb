{
  "nbformat": 4,
  "nbformat_minor": 0,
  "metadata": {
    "colab": {
      "provenance": [],
      "toc_visible": true
    },
    "kernelspec": {
      "name": "python3",
      "display_name": "Python 3"
    },
    "language_info": {
      "name": "python"
    },
    "widgets": {
      "application/vnd.jupyter.widget-state+json": {
        "c87be1e295434c91b2a7feb9428c4a3c": {
          "model_module": "@jupyter-widgets/controls",
          "model_name": "HBoxModel",
          "model_module_version": "1.5.0",
          "state": {
            "_dom_classes": [],
            "_model_module": "@jupyter-widgets/controls",
            "_model_module_version": "1.5.0",
            "_model_name": "HBoxModel",
            "_view_count": null,
            "_view_module": "@jupyter-widgets/controls",
            "_view_module_version": "1.5.0",
            "_view_name": "HBoxView",
            "box_style": "",
            "children": [
              "IPY_MODEL_b0dae0e872924a9d804a3b372ee90c84",
              "IPY_MODEL_ff3f0231bfaa4fdfa3f9d07913efb755",
              "IPY_MODEL_ffa27f81c7284b0ab430b0be99f5f5b0"
            ],
            "layout": "IPY_MODEL_0992954e847142c0a03907b08fbd895e"
          }
        },
        "b0dae0e872924a9d804a3b372ee90c84": {
          "model_module": "@jupyter-widgets/controls",
          "model_name": "HTMLModel",
          "model_module_version": "1.5.0",
          "state": {
            "_dom_classes": [],
            "_model_module": "@jupyter-widgets/controls",
            "_model_module_version": "1.5.0",
            "_model_name": "HTMLModel",
            "_view_count": null,
            "_view_module": "@jupyter-widgets/controls",
            "_view_module_version": "1.5.0",
            "_view_name": "HTMLView",
            "description": "",
            "description_tooltip": null,
            "layout": "IPY_MODEL_fcd659e8e4304f249550e449903fbfc3",
            "placeholder": "​",
            "style": "IPY_MODEL_6458f4b47ba34b5bb170bc7fa107e0e8",
            "value": "tokenizer_config.json: 100%"
          }
        },
        "ff3f0231bfaa4fdfa3f9d07913efb755": {
          "model_module": "@jupyter-widgets/controls",
          "model_name": "FloatProgressModel",
          "model_module_version": "1.5.0",
          "state": {
            "_dom_classes": [],
            "_model_module": "@jupyter-widgets/controls",
            "_model_module_version": "1.5.0",
            "_model_name": "FloatProgressModel",
            "_view_count": null,
            "_view_module": "@jupyter-widgets/controls",
            "_view_module_version": "1.5.0",
            "_view_name": "ProgressView",
            "bar_style": "success",
            "description": "",
            "description_tooltip": null,
            "layout": "IPY_MODEL_94c23233121c48ad9d2d00453f8e2130",
            "max": 48,
            "min": 0,
            "orientation": "horizontal",
            "style": "IPY_MODEL_516ec0b341604f90a6858376b6ff669e",
            "value": 48
          }
        },
        "ffa27f81c7284b0ab430b0be99f5f5b0": {
          "model_module": "@jupyter-widgets/controls",
          "model_name": "HTMLModel",
          "model_module_version": "1.5.0",
          "state": {
            "_dom_classes": [],
            "_model_module": "@jupyter-widgets/controls",
            "_model_module_version": "1.5.0",
            "_model_name": "HTMLModel",
            "_view_count": null,
            "_view_module": "@jupyter-widgets/controls",
            "_view_module_version": "1.5.0",
            "_view_name": "HTMLView",
            "description": "",
            "description_tooltip": null,
            "layout": "IPY_MODEL_96bb0911695f4bc69caf860601f804e1",
            "placeholder": "​",
            "style": "IPY_MODEL_34834a4759a94994a828902b6d6224eb",
            "value": " 48.0/48.0 [00:00&lt;00:00, 3.07kB/s]"
          }
        },
        "0992954e847142c0a03907b08fbd895e": {
          "model_module": "@jupyter-widgets/base",
          "model_name": "LayoutModel",
          "model_module_version": "1.2.0",
          "state": {
            "_model_module": "@jupyter-widgets/base",
            "_model_module_version": "1.2.0",
            "_model_name": "LayoutModel",
            "_view_count": null,
            "_view_module": "@jupyter-widgets/base",
            "_view_module_version": "1.2.0",
            "_view_name": "LayoutView",
            "align_content": null,
            "align_items": null,
            "align_self": null,
            "border": null,
            "bottom": null,
            "display": null,
            "flex": null,
            "flex_flow": null,
            "grid_area": null,
            "grid_auto_columns": null,
            "grid_auto_flow": null,
            "grid_auto_rows": null,
            "grid_column": null,
            "grid_gap": null,
            "grid_row": null,
            "grid_template_areas": null,
            "grid_template_columns": null,
            "grid_template_rows": null,
            "height": null,
            "justify_content": null,
            "justify_items": null,
            "left": null,
            "margin": null,
            "max_height": null,
            "max_width": null,
            "min_height": null,
            "min_width": null,
            "object_fit": null,
            "object_position": null,
            "order": null,
            "overflow": null,
            "overflow_x": null,
            "overflow_y": null,
            "padding": null,
            "right": null,
            "top": null,
            "visibility": null,
            "width": null
          }
        },
        "fcd659e8e4304f249550e449903fbfc3": {
          "model_module": "@jupyter-widgets/base",
          "model_name": "LayoutModel",
          "model_module_version": "1.2.0",
          "state": {
            "_model_module": "@jupyter-widgets/base",
            "_model_module_version": "1.2.0",
            "_model_name": "LayoutModel",
            "_view_count": null,
            "_view_module": "@jupyter-widgets/base",
            "_view_module_version": "1.2.0",
            "_view_name": "LayoutView",
            "align_content": null,
            "align_items": null,
            "align_self": null,
            "border": null,
            "bottom": null,
            "display": null,
            "flex": null,
            "flex_flow": null,
            "grid_area": null,
            "grid_auto_columns": null,
            "grid_auto_flow": null,
            "grid_auto_rows": null,
            "grid_column": null,
            "grid_gap": null,
            "grid_row": null,
            "grid_template_areas": null,
            "grid_template_columns": null,
            "grid_template_rows": null,
            "height": null,
            "justify_content": null,
            "justify_items": null,
            "left": null,
            "margin": null,
            "max_height": null,
            "max_width": null,
            "min_height": null,
            "min_width": null,
            "object_fit": null,
            "object_position": null,
            "order": null,
            "overflow": null,
            "overflow_x": null,
            "overflow_y": null,
            "padding": null,
            "right": null,
            "top": null,
            "visibility": null,
            "width": null
          }
        },
        "6458f4b47ba34b5bb170bc7fa107e0e8": {
          "model_module": "@jupyter-widgets/controls",
          "model_name": "DescriptionStyleModel",
          "model_module_version": "1.5.0",
          "state": {
            "_model_module": "@jupyter-widgets/controls",
            "_model_module_version": "1.5.0",
            "_model_name": "DescriptionStyleModel",
            "_view_count": null,
            "_view_module": "@jupyter-widgets/base",
            "_view_module_version": "1.2.0",
            "_view_name": "StyleView",
            "description_width": ""
          }
        },
        "94c23233121c48ad9d2d00453f8e2130": {
          "model_module": "@jupyter-widgets/base",
          "model_name": "LayoutModel",
          "model_module_version": "1.2.0",
          "state": {
            "_model_module": "@jupyter-widgets/base",
            "_model_module_version": "1.2.0",
            "_model_name": "LayoutModel",
            "_view_count": null,
            "_view_module": "@jupyter-widgets/base",
            "_view_module_version": "1.2.0",
            "_view_name": "LayoutView",
            "align_content": null,
            "align_items": null,
            "align_self": null,
            "border": null,
            "bottom": null,
            "display": null,
            "flex": null,
            "flex_flow": null,
            "grid_area": null,
            "grid_auto_columns": null,
            "grid_auto_flow": null,
            "grid_auto_rows": null,
            "grid_column": null,
            "grid_gap": null,
            "grid_row": null,
            "grid_template_areas": null,
            "grid_template_columns": null,
            "grid_template_rows": null,
            "height": null,
            "justify_content": null,
            "justify_items": null,
            "left": null,
            "margin": null,
            "max_height": null,
            "max_width": null,
            "min_height": null,
            "min_width": null,
            "object_fit": null,
            "object_position": null,
            "order": null,
            "overflow": null,
            "overflow_x": null,
            "overflow_y": null,
            "padding": null,
            "right": null,
            "top": null,
            "visibility": null,
            "width": null
          }
        },
        "516ec0b341604f90a6858376b6ff669e": {
          "model_module": "@jupyter-widgets/controls",
          "model_name": "ProgressStyleModel",
          "model_module_version": "1.5.0",
          "state": {
            "_model_module": "@jupyter-widgets/controls",
            "_model_module_version": "1.5.0",
            "_model_name": "ProgressStyleModel",
            "_view_count": null,
            "_view_module": "@jupyter-widgets/base",
            "_view_module_version": "1.2.0",
            "_view_name": "StyleView",
            "bar_color": null,
            "description_width": ""
          }
        },
        "96bb0911695f4bc69caf860601f804e1": {
          "model_module": "@jupyter-widgets/base",
          "model_name": "LayoutModel",
          "model_module_version": "1.2.0",
          "state": {
            "_model_module": "@jupyter-widgets/base",
            "_model_module_version": "1.2.0",
            "_model_name": "LayoutModel",
            "_view_count": null,
            "_view_module": "@jupyter-widgets/base",
            "_view_module_version": "1.2.0",
            "_view_name": "LayoutView",
            "align_content": null,
            "align_items": null,
            "align_self": null,
            "border": null,
            "bottom": null,
            "display": null,
            "flex": null,
            "flex_flow": null,
            "grid_area": null,
            "grid_auto_columns": null,
            "grid_auto_flow": null,
            "grid_auto_rows": null,
            "grid_column": null,
            "grid_gap": null,
            "grid_row": null,
            "grid_template_areas": null,
            "grid_template_columns": null,
            "grid_template_rows": null,
            "height": null,
            "justify_content": null,
            "justify_items": null,
            "left": null,
            "margin": null,
            "max_height": null,
            "max_width": null,
            "min_height": null,
            "min_width": null,
            "object_fit": null,
            "object_position": null,
            "order": null,
            "overflow": null,
            "overflow_x": null,
            "overflow_y": null,
            "padding": null,
            "right": null,
            "top": null,
            "visibility": null,
            "width": null
          }
        },
        "34834a4759a94994a828902b6d6224eb": {
          "model_module": "@jupyter-widgets/controls",
          "model_name": "DescriptionStyleModel",
          "model_module_version": "1.5.0",
          "state": {
            "_model_module": "@jupyter-widgets/controls",
            "_model_module_version": "1.5.0",
            "_model_name": "DescriptionStyleModel",
            "_view_count": null,
            "_view_module": "@jupyter-widgets/base",
            "_view_module_version": "1.2.0",
            "_view_name": "StyleView",
            "description_width": ""
          }
        },
        "09a6b1fea2fc4ff5a04465aaf164be62": {
          "model_module": "@jupyter-widgets/controls",
          "model_name": "HBoxModel",
          "model_module_version": "1.5.0",
          "state": {
            "_dom_classes": [],
            "_model_module": "@jupyter-widgets/controls",
            "_model_module_version": "1.5.0",
            "_model_name": "HBoxModel",
            "_view_count": null,
            "_view_module": "@jupyter-widgets/controls",
            "_view_module_version": "1.5.0",
            "_view_name": "HBoxView",
            "box_style": "",
            "children": [
              "IPY_MODEL_00742029384c4b72b6f669cfb42855b0",
              "IPY_MODEL_ac1a791c5d8540108695f249ba7259e0",
              "IPY_MODEL_55e89d341bab4abead841ead3ff21663"
            ],
            "layout": "IPY_MODEL_f2278999714b4eceacb404da2c0843c3"
          }
        },
        "00742029384c4b72b6f669cfb42855b0": {
          "model_module": "@jupyter-widgets/controls",
          "model_name": "HTMLModel",
          "model_module_version": "1.5.0",
          "state": {
            "_dom_classes": [],
            "_model_module": "@jupyter-widgets/controls",
            "_model_module_version": "1.5.0",
            "_model_name": "HTMLModel",
            "_view_count": null,
            "_view_module": "@jupyter-widgets/controls",
            "_view_module_version": "1.5.0",
            "_view_name": "HTMLView",
            "description": "",
            "description_tooltip": null,
            "layout": "IPY_MODEL_5dd1869cb4a04f6fb4310e447f8fae68",
            "placeholder": "​",
            "style": "IPY_MODEL_c2298ffe104f40bdb040ae579f3a5502",
            "value": "vocab.txt: 100%"
          }
        },
        "ac1a791c5d8540108695f249ba7259e0": {
          "model_module": "@jupyter-widgets/controls",
          "model_name": "FloatProgressModel",
          "model_module_version": "1.5.0",
          "state": {
            "_dom_classes": [],
            "_model_module": "@jupyter-widgets/controls",
            "_model_module_version": "1.5.0",
            "_model_name": "FloatProgressModel",
            "_view_count": null,
            "_view_module": "@jupyter-widgets/controls",
            "_view_module_version": "1.5.0",
            "_view_name": "ProgressView",
            "bar_style": "success",
            "description": "",
            "description_tooltip": null,
            "layout": "IPY_MODEL_c542e97bdc4544698f6b8cc02664de5d",
            "max": 231508,
            "min": 0,
            "orientation": "horizontal",
            "style": "IPY_MODEL_cba827b0df0c4b6aad7545a0841230e2",
            "value": 231508
          }
        },
        "55e89d341bab4abead841ead3ff21663": {
          "model_module": "@jupyter-widgets/controls",
          "model_name": "HTMLModel",
          "model_module_version": "1.5.0",
          "state": {
            "_dom_classes": [],
            "_model_module": "@jupyter-widgets/controls",
            "_model_module_version": "1.5.0",
            "_model_name": "HTMLModel",
            "_view_count": null,
            "_view_module": "@jupyter-widgets/controls",
            "_view_module_version": "1.5.0",
            "_view_name": "HTMLView",
            "description": "",
            "description_tooltip": null,
            "layout": "IPY_MODEL_5800f19df2a549898306ecf8dafcd14e",
            "placeholder": "​",
            "style": "IPY_MODEL_fc59c04dec0e4fa7ac37a1f5895b1efa",
            "value": " 232k/232k [00:00&lt;00:00, 3.74MB/s]"
          }
        },
        "f2278999714b4eceacb404da2c0843c3": {
          "model_module": "@jupyter-widgets/base",
          "model_name": "LayoutModel",
          "model_module_version": "1.2.0",
          "state": {
            "_model_module": "@jupyter-widgets/base",
            "_model_module_version": "1.2.0",
            "_model_name": "LayoutModel",
            "_view_count": null,
            "_view_module": "@jupyter-widgets/base",
            "_view_module_version": "1.2.0",
            "_view_name": "LayoutView",
            "align_content": null,
            "align_items": null,
            "align_self": null,
            "border": null,
            "bottom": null,
            "display": null,
            "flex": null,
            "flex_flow": null,
            "grid_area": null,
            "grid_auto_columns": null,
            "grid_auto_flow": null,
            "grid_auto_rows": null,
            "grid_column": null,
            "grid_gap": null,
            "grid_row": null,
            "grid_template_areas": null,
            "grid_template_columns": null,
            "grid_template_rows": null,
            "height": null,
            "justify_content": null,
            "justify_items": null,
            "left": null,
            "margin": null,
            "max_height": null,
            "max_width": null,
            "min_height": null,
            "min_width": null,
            "object_fit": null,
            "object_position": null,
            "order": null,
            "overflow": null,
            "overflow_x": null,
            "overflow_y": null,
            "padding": null,
            "right": null,
            "top": null,
            "visibility": null,
            "width": null
          }
        },
        "5dd1869cb4a04f6fb4310e447f8fae68": {
          "model_module": "@jupyter-widgets/base",
          "model_name": "LayoutModel",
          "model_module_version": "1.2.0",
          "state": {
            "_model_module": "@jupyter-widgets/base",
            "_model_module_version": "1.2.0",
            "_model_name": "LayoutModel",
            "_view_count": null,
            "_view_module": "@jupyter-widgets/base",
            "_view_module_version": "1.2.0",
            "_view_name": "LayoutView",
            "align_content": null,
            "align_items": null,
            "align_self": null,
            "border": null,
            "bottom": null,
            "display": null,
            "flex": null,
            "flex_flow": null,
            "grid_area": null,
            "grid_auto_columns": null,
            "grid_auto_flow": null,
            "grid_auto_rows": null,
            "grid_column": null,
            "grid_gap": null,
            "grid_row": null,
            "grid_template_areas": null,
            "grid_template_columns": null,
            "grid_template_rows": null,
            "height": null,
            "justify_content": null,
            "justify_items": null,
            "left": null,
            "margin": null,
            "max_height": null,
            "max_width": null,
            "min_height": null,
            "min_width": null,
            "object_fit": null,
            "object_position": null,
            "order": null,
            "overflow": null,
            "overflow_x": null,
            "overflow_y": null,
            "padding": null,
            "right": null,
            "top": null,
            "visibility": null,
            "width": null
          }
        },
        "c2298ffe104f40bdb040ae579f3a5502": {
          "model_module": "@jupyter-widgets/controls",
          "model_name": "DescriptionStyleModel",
          "model_module_version": "1.5.0",
          "state": {
            "_model_module": "@jupyter-widgets/controls",
            "_model_module_version": "1.5.0",
            "_model_name": "DescriptionStyleModel",
            "_view_count": null,
            "_view_module": "@jupyter-widgets/base",
            "_view_module_version": "1.2.0",
            "_view_name": "StyleView",
            "description_width": ""
          }
        },
        "c542e97bdc4544698f6b8cc02664de5d": {
          "model_module": "@jupyter-widgets/base",
          "model_name": "LayoutModel",
          "model_module_version": "1.2.0",
          "state": {
            "_model_module": "@jupyter-widgets/base",
            "_model_module_version": "1.2.0",
            "_model_name": "LayoutModel",
            "_view_count": null,
            "_view_module": "@jupyter-widgets/base",
            "_view_module_version": "1.2.0",
            "_view_name": "LayoutView",
            "align_content": null,
            "align_items": null,
            "align_self": null,
            "border": null,
            "bottom": null,
            "display": null,
            "flex": null,
            "flex_flow": null,
            "grid_area": null,
            "grid_auto_columns": null,
            "grid_auto_flow": null,
            "grid_auto_rows": null,
            "grid_column": null,
            "grid_gap": null,
            "grid_row": null,
            "grid_template_areas": null,
            "grid_template_columns": null,
            "grid_template_rows": null,
            "height": null,
            "justify_content": null,
            "justify_items": null,
            "left": null,
            "margin": null,
            "max_height": null,
            "max_width": null,
            "min_height": null,
            "min_width": null,
            "object_fit": null,
            "object_position": null,
            "order": null,
            "overflow": null,
            "overflow_x": null,
            "overflow_y": null,
            "padding": null,
            "right": null,
            "top": null,
            "visibility": null,
            "width": null
          }
        },
        "cba827b0df0c4b6aad7545a0841230e2": {
          "model_module": "@jupyter-widgets/controls",
          "model_name": "ProgressStyleModel",
          "model_module_version": "1.5.0",
          "state": {
            "_model_module": "@jupyter-widgets/controls",
            "_model_module_version": "1.5.0",
            "_model_name": "ProgressStyleModel",
            "_view_count": null,
            "_view_module": "@jupyter-widgets/base",
            "_view_module_version": "1.2.0",
            "_view_name": "StyleView",
            "bar_color": null,
            "description_width": ""
          }
        },
        "5800f19df2a549898306ecf8dafcd14e": {
          "model_module": "@jupyter-widgets/base",
          "model_name": "LayoutModel",
          "model_module_version": "1.2.0",
          "state": {
            "_model_module": "@jupyter-widgets/base",
            "_model_module_version": "1.2.0",
            "_model_name": "LayoutModel",
            "_view_count": null,
            "_view_module": "@jupyter-widgets/base",
            "_view_module_version": "1.2.0",
            "_view_name": "LayoutView",
            "align_content": null,
            "align_items": null,
            "align_self": null,
            "border": null,
            "bottom": null,
            "display": null,
            "flex": null,
            "flex_flow": null,
            "grid_area": null,
            "grid_auto_columns": null,
            "grid_auto_flow": null,
            "grid_auto_rows": null,
            "grid_column": null,
            "grid_gap": null,
            "grid_row": null,
            "grid_template_areas": null,
            "grid_template_columns": null,
            "grid_template_rows": null,
            "height": null,
            "justify_content": null,
            "justify_items": null,
            "left": null,
            "margin": null,
            "max_height": null,
            "max_width": null,
            "min_height": null,
            "min_width": null,
            "object_fit": null,
            "object_position": null,
            "order": null,
            "overflow": null,
            "overflow_x": null,
            "overflow_y": null,
            "padding": null,
            "right": null,
            "top": null,
            "visibility": null,
            "width": null
          }
        },
        "fc59c04dec0e4fa7ac37a1f5895b1efa": {
          "model_module": "@jupyter-widgets/controls",
          "model_name": "DescriptionStyleModel",
          "model_module_version": "1.5.0",
          "state": {
            "_model_module": "@jupyter-widgets/controls",
            "_model_module_version": "1.5.0",
            "_model_name": "DescriptionStyleModel",
            "_view_count": null,
            "_view_module": "@jupyter-widgets/base",
            "_view_module_version": "1.2.0",
            "_view_name": "StyleView",
            "description_width": ""
          }
        },
        "625922e6ec3643af892a8580394bd04d": {
          "model_module": "@jupyter-widgets/controls",
          "model_name": "HBoxModel",
          "model_module_version": "1.5.0",
          "state": {
            "_dom_classes": [],
            "_model_module": "@jupyter-widgets/controls",
            "_model_module_version": "1.5.0",
            "_model_name": "HBoxModel",
            "_view_count": null,
            "_view_module": "@jupyter-widgets/controls",
            "_view_module_version": "1.5.0",
            "_view_name": "HBoxView",
            "box_style": "",
            "children": [
              "IPY_MODEL_0a481e03d8534829a8e036ace2993561",
              "IPY_MODEL_82035b5fd07f49ccb2f850892267cfd0",
              "IPY_MODEL_fec7f68a4d7542d8b7abb4fb37f14b9f"
            ],
            "layout": "IPY_MODEL_09e0b51cf41a4779b25f110ca148a071"
          }
        },
        "0a481e03d8534829a8e036ace2993561": {
          "model_module": "@jupyter-widgets/controls",
          "model_name": "HTMLModel",
          "model_module_version": "1.5.0",
          "state": {
            "_dom_classes": [],
            "_model_module": "@jupyter-widgets/controls",
            "_model_module_version": "1.5.0",
            "_model_name": "HTMLModel",
            "_view_count": null,
            "_view_module": "@jupyter-widgets/controls",
            "_view_module_version": "1.5.0",
            "_view_name": "HTMLView",
            "description": "",
            "description_tooltip": null,
            "layout": "IPY_MODEL_8bb8bb1733874f71b6f0927ecf88a9e5",
            "placeholder": "​",
            "style": "IPY_MODEL_fdbc0d773eb8424c99ad90ec10927568",
            "value": "tokenizer.json: 100%"
          }
        },
        "82035b5fd07f49ccb2f850892267cfd0": {
          "model_module": "@jupyter-widgets/controls",
          "model_name": "FloatProgressModel",
          "model_module_version": "1.5.0",
          "state": {
            "_dom_classes": [],
            "_model_module": "@jupyter-widgets/controls",
            "_model_module_version": "1.5.0",
            "_model_name": "FloatProgressModel",
            "_view_count": null,
            "_view_module": "@jupyter-widgets/controls",
            "_view_module_version": "1.5.0",
            "_view_name": "ProgressView",
            "bar_style": "success",
            "description": "",
            "description_tooltip": null,
            "layout": "IPY_MODEL_4af440b5d1474a6caa1429d59d7dadbb",
            "max": 466062,
            "min": 0,
            "orientation": "horizontal",
            "style": "IPY_MODEL_3d441aac1e0542f3bf6f3042d4cb30a8",
            "value": 466062
          }
        },
        "fec7f68a4d7542d8b7abb4fb37f14b9f": {
          "model_module": "@jupyter-widgets/controls",
          "model_name": "HTMLModel",
          "model_module_version": "1.5.0",
          "state": {
            "_dom_classes": [],
            "_model_module": "@jupyter-widgets/controls",
            "_model_module_version": "1.5.0",
            "_model_name": "HTMLModel",
            "_view_count": null,
            "_view_module": "@jupyter-widgets/controls",
            "_view_module_version": "1.5.0",
            "_view_name": "HTMLView",
            "description": "",
            "description_tooltip": null,
            "layout": "IPY_MODEL_7be2a2c5b1974834bae68d40b02ac966",
            "placeholder": "​",
            "style": "IPY_MODEL_84867b931e9144e0b3c84cb94f549bd7",
            "value": " 466k/466k [00:00&lt;00:00, 15.1MB/s]"
          }
        },
        "09e0b51cf41a4779b25f110ca148a071": {
          "model_module": "@jupyter-widgets/base",
          "model_name": "LayoutModel",
          "model_module_version": "1.2.0",
          "state": {
            "_model_module": "@jupyter-widgets/base",
            "_model_module_version": "1.2.0",
            "_model_name": "LayoutModel",
            "_view_count": null,
            "_view_module": "@jupyter-widgets/base",
            "_view_module_version": "1.2.0",
            "_view_name": "LayoutView",
            "align_content": null,
            "align_items": null,
            "align_self": null,
            "border": null,
            "bottom": null,
            "display": null,
            "flex": null,
            "flex_flow": null,
            "grid_area": null,
            "grid_auto_columns": null,
            "grid_auto_flow": null,
            "grid_auto_rows": null,
            "grid_column": null,
            "grid_gap": null,
            "grid_row": null,
            "grid_template_areas": null,
            "grid_template_columns": null,
            "grid_template_rows": null,
            "height": null,
            "justify_content": null,
            "justify_items": null,
            "left": null,
            "margin": null,
            "max_height": null,
            "max_width": null,
            "min_height": null,
            "min_width": null,
            "object_fit": null,
            "object_position": null,
            "order": null,
            "overflow": null,
            "overflow_x": null,
            "overflow_y": null,
            "padding": null,
            "right": null,
            "top": null,
            "visibility": null,
            "width": null
          }
        },
        "8bb8bb1733874f71b6f0927ecf88a9e5": {
          "model_module": "@jupyter-widgets/base",
          "model_name": "LayoutModel",
          "model_module_version": "1.2.0",
          "state": {
            "_model_module": "@jupyter-widgets/base",
            "_model_module_version": "1.2.0",
            "_model_name": "LayoutModel",
            "_view_count": null,
            "_view_module": "@jupyter-widgets/base",
            "_view_module_version": "1.2.0",
            "_view_name": "LayoutView",
            "align_content": null,
            "align_items": null,
            "align_self": null,
            "border": null,
            "bottom": null,
            "display": null,
            "flex": null,
            "flex_flow": null,
            "grid_area": null,
            "grid_auto_columns": null,
            "grid_auto_flow": null,
            "grid_auto_rows": null,
            "grid_column": null,
            "grid_gap": null,
            "grid_row": null,
            "grid_template_areas": null,
            "grid_template_columns": null,
            "grid_template_rows": null,
            "height": null,
            "justify_content": null,
            "justify_items": null,
            "left": null,
            "margin": null,
            "max_height": null,
            "max_width": null,
            "min_height": null,
            "min_width": null,
            "object_fit": null,
            "object_position": null,
            "order": null,
            "overflow": null,
            "overflow_x": null,
            "overflow_y": null,
            "padding": null,
            "right": null,
            "top": null,
            "visibility": null,
            "width": null
          }
        },
        "fdbc0d773eb8424c99ad90ec10927568": {
          "model_module": "@jupyter-widgets/controls",
          "model_name": "DescriptionStyleModel",
          "model_module_version": "1.5.0",
          "state": {
            "_model_module": "@jupyter-widgets/controls",
            "_model_module_version": "1.5.0",
            "_model_name": "DescriptionStyleModel",
            "_view_count": null,
            "_view_module": "@jupyter-widgets/base",
            "_view_module_version": "1.2.0",
            "_view_name": "StyleView",
            "description_width": ""
          }
        },
        "4af440b5d1474a6caa1429d59d7dadbb": {
          "model_module": "@jupyter-widgets/base",
          "model_name": "LayoutModel",
          "model_module_version": "1.2.0",
          "state": {
            "_model_module": "@jupyter-widgets/base",
            "_model_module_version": "1.2.0",
            "_model_name": "LayoutModel",
            "_view_count": null,
            "_view_module": "@jupyter-widgets/base",
            "_view_module_version": "1.2.0",
            "_view_name": "LayoutView",
            "align_content": null,
            "align_items": null,
            "align_self": null,
            "border": null,
            "bottom": null,
            "display": null,
            "flex": null,
            "flex_flow": null,
            "grid_area": null,
            "grid_auto_columns": null,
            "grid_auto_flow": null,
            "grid_auto_rows": null,
            "grid_column": null,
            "grid_gap": null,
            "grid_row": null,
            "grid_template_areas": null,
            "grid_template_columns": null,
            "grid_template_rows": null,
            "height": null,
            "justify_content": null,
            "justify_items": null,
            "left": null,
            "margin": null,
            "max_height": null,
            "max_width": null,
            "min_height": null,
            "min_width": null,
            "object_fit": null,
            "object_position": null,
            "order": null,
            "overflow": null,
            "overflow_x": null,
            "overflow_y": null,
            "padding": null,
            "right": null,
            "top": null,
            "visibility": null,
            "width": null
          }
        },
        "3d441aac1e0542f3bf6f3042d4cb30a8": {
          "model_module": "@jupyter-widgets/controls",
          "model_name": "ProgressStyleModel",
          "model_module_version": "1.5.0",
          "state": {
            "_model_module": "@jupyter-widgets/controls",
            "_model_module_version": "1.5.0",
            "_model_name": "ProgressStyleModel",
            "_view_count": null,
            "_view_module": "@jupyter-widgets/base",
            "_view_module_version": "1.2.0",
            "_view_name": "StyleView",
            "bar_color": null,
            "description_width": ""
          }
        },
        "7be2a2c5b1974834bae68d40b02ac966": {
          "model_module": "@jupyter-widgets/base",
          "model_name": "LayoutModel",
          "model_module_version": "1.2.0",
          "state": {
            "_model_module": "@jupyter-widgets/base",
            "_model_module_version": "1.2.0",
            "_model_name": "LayoutModel",
            "_view_count": null,
            "_view_module": "@jupyter-widgets/base",
            "_view_module_version": "1.2.0",
            "_view_name": "LayoutView",
            "align_content": null,
            "align_items": null,
            "align_self": null,
            "border": null,
            "bottom": null,
            "display": null,
            "flex": null,
            "flex_flow": null,
            "grid_area": null,
            "grid_auto_columns": null,
            "grid_auto_flow": null,
            "grid_auto_rows": null,
            "grid_column": null,
            "grid_gap": null,
            "grid_row": null,
            "grid_template_areas": null,
            "grid_template_columns": null,
            "grid_template_rows": null,
            "height": null,
            "justify_content": null,
            "justify_items": null,
            "left": null,
            "margin": null,
            "max_height": null,
            "max_width": null,
            "min_height": null,
            "min_width": null,
            "object_fit": null,
            "object_position": null,
            "order": null,
            "overflow": null,
            "overflow_x": null,
            "overflow_y": null,
            "padding": null,
            "right": null,
            "top": null,
            "visibility": null,
            "width": null
          }
        },
        "84867b931e9144e0b3c84cb94f549bd7": {
          "model_module": "@jupyter-widgets/controls",
          "model_name": "DescriptionStyleModel",
          "model_module_version": "1.5.0",
          "state": {
            "_model_module": "@jupyter-widgets/controls",
            "_model_module_version": "1.5.0",
            "_model_name": "DescriptionStyleModel",
            "_view_count": null,
            "_view_module": "@jupyter-widgets/base",
            "_view_module_version": "1.2.0",
            "_view_name": "StyleView",
            "description_width": ""
          }
        },
        "c63e35a8e1b5484794ea8aac09e484c4": {
          "model_module": "@jupyter-widgets/controls",
          "model_name": "HBoxModel",
          "model_module_version": "1.5.0",
          "state": {
            "_dom_classes": [],
            "_model_module": "@jupyter-widgets/controls",
            "_model_module_version": "1.5.0",
            "_model_name": "HBoxModel",
            "_view_count": null,
            "_view_module": "@jupyter-widgets/controls",
            "_view_module_version": "1.5.0",
            "_view_name": "HBoxView",
            "box_style": "",
            "children": [
              "IPY_MODEL_ea8ba59fb4b145478e13ad38c1926e87",
              "IPY_MODEL_4c61732189294ca3bc9169ccb49f8ef4",
              "IPY_MODEL_b9139520dc48461bbbb2faeb7c26bc37"
            ],
            "layout": "IPY_MODEL_bbc6778da24a46d69858598e1c5c82a9"
          }
        },
        "ea8ba59fb4b145478e13ad38c1926e87": {
          "model_module": "@jupyter-widgets/controls",
          "model_name": "HTMLModel",
          "model_module_version": "1.5.0",
          "state": {
            "_dom_classes": [],
            "_model_module": "@jupyter-widgets/controls",
            "_model_module_version": "1.5.0",
            "_model_name": "HTMLModel",
            "_view_count": null,
            "_view_module": "@jupyter-widgets/controls",
            "_view_module_version": "1.5.0",
            "_view_name": "HTMLView",
            "description": "",
            "description_tooltip": null,
            "layout": "IPY_MODEL_313b4d188eb14c528b0a252510f42c2e",
            "placeholder": "​",
            "style": "IPY_MODEL_aafb00ed59e049279a30ec1cf1aea6b0",
            "value": "config.json: 100%"
          }
        },
        "4c61732189294ca3bc9169ccb49f8ef4": {
          "model_module": "@jupyter-widgets/controls",
          "model_name": "FloatProgressModel",
          "model_module_version": "1.5.0",
          "state": {
            "_dom_classes": [],
            "_model_module": "@jupyter-widgets/controls",
            "_model_module_version": "1.5.0",
            "_model_name": "FloatProgressModel",
            "_view_count": null,
            "_view_module": "@jupyter-widgets/controls",
            "_view_module_version": "1.5.0",
            "_view_name": "ProgressView",
            "bar_style": "success",
            "description": "",
            "description_tooltip": null,
            "layout": "IPY_MODEL_8a4336246d0c457aad16f0289963ae5c",
            "max": 570,
            "min": 0,
            "orientation": "horizontal",
            "style": "IPY_MODEL_de8b71d0e8d947188aaa4aa7c9fe6f49",
            "value": 570
          }
        },
        "b9139520dc48461bbbb2faeb7c26bc37": {
          "model_module": "@jupyter-widgets/controls",
          "model_name": "HTMLModel",
          "model_module_version": "1.5.0",
          "state": {
            "_dom_classes": [],
            "_model_module": "@jupyter-widgets/controls",
            "_model_module_version": "1.5.0",
            "_model_name": "HTMLModel",
            "_view_count": null,
            "_view_module": "@jupyter-widgets/controls",
            "_view_module_version": "1.5.0",
            "_view_name": "HTMLView",
            "description": "",
            "description_tooltip": null,
            "layout": "IPY_MODEL_4df41d7de06846ca91f45ad470b6b560",
            "placeholder": "​",
            "style": "IPY_MODEL_e1a90704b117445a85c78aa18e682c76",
            "value": " 570/570 [00:00&lt;00:00, 29.0kB/s]"
          }
        },
        "bbc6778da24a46d69858598e1c5c82a9": {
          "model_module": "@jupyter-widgets/base",
          "model_name": "LayoutModel",
          "model_module_version": "1.2.0",
          "state": {
            "_model_module": "@jupyter-widgets/base",
            "_model_module_version": "1.2.0",
            "_model_name": "LayoutModel",
            "_view_count": null,
            "_view_module": "@jupyter-widgets/base",
            "_view_module_version": "1.2.0",
            "_view_name": "LayoutView",
            "align_content": null,
            "align_items": null,
            "align_self": null,
            "border": null,
            "bottom": null,
            "display": null,
            "flex": null,
            "flex_flow": null,
            "grid_area": null,
            "grid_auto_columns": null,
            "grid_auto_flow": null,
            "grid_auto_rows": null,
            "grid_column": null,
            "grid_gap": null,
            "grid_row": null,
            "grid_template_areas": null,
            "grid_template_columns": null,
            "grid_template_rows": null,
            "height": null,
            "justify_content": null,
            "justify_items": null,
            "left": null,
            "margin": null,
            "max_height": null,
            "max_width": null,
            "min_height": null,
            "min_width": null,
            "object_fit": null,
            "object_position": null,
            "order": null,
            "overflow": null,
            "overflow_x": null,
            "overflow_y": null,
            "padding": null,
            "right": null,
            "top": null,
            "visibility": null,
            "width": null
          }
        },
        "313b4d188eb14c528b0a252510f42c2e": {
          "model_module": "@jupyter-widgets/base",
          "model_name": "LayoutModel",
          "model_module_version": "1.2.0",
          "state": {
            "_model_module": "@jupyter-widgets/base",
            "_model_module_version": "1.2.0",
            "_model_name": "LayoutModel",
            "_view_count": null,
            "_view_module": "@jupyter-widgets/base",
            "_view_module_version": "1.2.0",
            "_view_name": "LayoutView",
            "align_content": null,
            "align_items": null,
            "align_self": null,
            "border": null,
            "bottom": null,
            "display": null,
            "flex": null,
            "flex_flow": null,
            "grid_area": null,
            "grid_auto_columns": null,
            "grid_auto_flow": null,
            "grid_auto_rows": null,
            "grid_column": null,
            "grid_gap": null,
            "grid_row": null,
            "grid_template_areas": null,
            "grid_template_columns": null,
            "grid_template_rows": null,
            "height": null,
            "justify_content": null,
            "justify_items": null,
            "left": null,
            "margin": null,
            "max_height": null,
            "max_width": null,
            "min_height": null,
            "min_width": null,
            "object_fit": null,
            "object_position": null,
            "order": null,
            "overflow": null,
            "overflow_x": null,
            "overflow_y": null,
            "padding": null,
            "right": null,
            "top": null,
            "visibility": null,
            "width": null
          }
        },
        "aafb00ed59e049279a30ec1cf1aea6b0": {
          "model_module": "@jupyter-widgets/controls",
          "model_name": "DescriptionStyleModel",
          "model_module_version": "1.5.0",
          "state": {
            "_model_module": "@jupyter-widgets/controls",
            "_model_module_version": "1.5.0",
            "_model_name": "DescriptionStyleModel",
            "_view_count": null,
            "_view_module": "@jupyter-widgets/base",
            "_view_module_version": "1.2.0",
            "_view_name": "StyleView",
            "description_width": ""
          }
        },
        "8a4336246d0c457aad16f0289963ae5c": {
          "model_module": "@jupyter-widgets/base",
          "model_name": "LayoutModel",
          "model_module_version": "1.2.0",
          "state": {
            "_model_module": "@jupyter-widgets/base",
            "_model_module_version": "1.2.0",
            "_model_name": "LayoutModel",
            "_view_count": null,
            "_view_module": "@jupyter-widgets/base",
            "_view_module_version": "1.2.0",
            "_view_name": "LayoutView",
            "align_content": null,
            "align_items": null,
            "align_self": null,
            "border": null,
            "bottom": null,
            "display": null,
            "flex": null,
            "flex_flow": null,
            "grid_area": null,
            "grid_auto_columns": null,
            "grid_auto_flow": null,
            "grid_auto_rows": null,
            "grid_column": null,
            "grid_gap": null,
            "grid_row": null,
            "grid_template_areas": null,
            "grid_template_columns": null,
            "grid_template_rows": null,
            "height": null,
            "justify_content": null,
            "justify_items": null,
            "left": null,
            "margin": null,
            "max_height": null,
            "max_width": null,
            "min_height": null,
            "min_width": null,
            "object_fit": null,
            "object_position": null,
            "order": null,
            "overflow": null,
            "overflow_x": null,
            "overflow_y": null,
            "padding": null,
            "right": null,
            "top": null,
            "visibility": null,
            "width": null
          }
        },
        "de8b71d0e8d947188aaa4aa7c9fe6f49": {
          "model_module": "@jupyter-widgets/controls",
          "model_name": "ProgressStyleModel",
          "model_module_version": "1.5.0",
          "state": {
            "_model_module": "@jupyter-widgets/controls",
            "_model_module_version": "1.5.0",
            "_model_name": "ProgressStyleModel",
            "_view_count": null,
            "_view_module": "@jupyter-widgets/base",
            "_view_module_version": "1.2.0",
            "_view_name": "StyleView",
            "bar_color": null,
            "description_width": ""
          }
        },
        "4df41d7de06846ca91f45ad470b6b560": {
          "model_module": "@jupyter-widgets/base",
          "model_name": "LayoutModel",
          "model_module_version": "1.2.0",
          "state": {
            "_model_module": "@jupyter-widgets/base",
            "_model_module_version": "1.2.0",
            "_model_name": "LayoutModel",
            "_view_count": null,
            "_view_module": "@jupyter-widgets/base",
            "_view_module_version": "1.2.0",
            "_view_name": "LayoutView",
            "align_content": null,
            "align_items": null,
            "align_self": null,
            "border": null,
            "bottom": null,
            "display": null,
            "flex": null,
            "flex_flow": null,
            "grid_area": null,
            "grid_auto_columns": null,
            "grid_auto_flow": null,
            "grid_auto_rows": null,
            "grid_column": null,
            "grid_gap": null,
            "grid_row": null,
            "grid_template_areas": null,
            "grid_template_columns": null,
            "grid_template_rows": null,
            "height": null,
            "justify_content": null,
            "justify_items": null,
            "left": null,
            "margin": null,
            "max_height": null,
            "max_width": null,
            "min_height": null,
            "min_width": null,
            "object_fit": null,
            "object_position": null,
            "order": null,
            "overflow": null,
            "overflow_x": null,
            "overflow_y": null,
            "padding": null,
            "right": null,
            "top": null,
            "visibility": null,
            "width": null
          }
        },
        "e1a90704b117445a85c78aa18e682c76": {
          "model_module": "@jupyter-widgets/controls",
          "model_name": "DescriptionStyleModel",
          "model_module_version": "1.5.0",
          "state": {
            "_model_module": "@jupyter-widgets/controls",
            "_model_module_version": "1.5.0",
            "_model_name": "DescriptionStyleModel",
            "_view_count": null,
            "_view_module": "@jupyter-widgets/base",
            "_view_module_version": "1.2.0",
            "_view_name": "StyleView",
            "description_width": ""
          }
        },
        "f015aa2ac2b84624b677df0c277f3043": {
          "model_module": "@jupyter-widgets/controls",
          "model_name": "HBoxModel",
          "model_module_version": "1.5.0",
          "state": {
            "_dom_classes": [],
            "_model_module": "@jupyter-widgets/controls",
            "_model_module_version": "1.5.0",
            "_model_name": "HBoxModel",
            "_view_count": null,
            "_view_module": "@jupyter-widgets/controls",
            "_view_module_version": "1.5.0",
            "_view_name": "HBoxView",
            "box_style": "",
            "children": [
              "IPY_MODEL_6bfd5bb2c8064681a4e012ea7ceedc44",
              "IPY_MODEL_450f9abbab2743578b2958e1aa080204",
              "IPY_MODEL_8f6f3286a8c149979aa968ce5d9331dd"
            ],
            "layout": "IPY_MODEL_e5dbca9dfe294a54b3eeae922242d89a"
          }
        },
        "6bfd5bb2c8064681a4e012ea7ceedc44": {
          "model_module": "@jupyter-widgets/controls",
          "model_name": "HTMLModel",
          "model_module_version": "1.5.0",
          "state": {
            "_dom_classes": [],
            "_model_module": "@jupyter-widgets/controls",
            "_model_module_version": "1.5.0",
            "_model_name": "HTMLModel",
            "_view_count": null,
            "_view_module": "@jupyter-widgets/controls",
            "_view_module_version": "1.5.0",
            "_view_name": "HTMLView",
            "description": "",
            "description_tooltip": null,
            "layout": "IPY_MODEL_f887360db3b845f5a227ddf68b4d13a3",
            "placeholder": "​",
            "style": "IPY_MODEL_c463b0fee53e428cb89dfaaca644e23c",
            "value": "model.safetensors: 100%"
          }
        },
        "450f9abbab2743578b2958e1aa080204": {
          "model_module": "@jupyter-widgets/controls",
          "model_name": "FloatProgressModel",
          "model_module_version": "1.5.0",
          "state": {
            "_dom_classes": [],
            "_model_module": "@jupyter-widgets/controls",
            "_model_module_version": "1.5.0",
            "_model_name": "FloatProgressModel",
            "_view_count": null,
            "_view_module": "@jupyter-widgets/controls",
            "_view_module_version": "1.5.0",
            "_view_name": "ProgressView",
            "bar_style": "success",
            "description": "",
            "description_tooltip": null,
            "layout": "IPY_MODEL_f61e6ea9072c4fb3a72381956f52ce05",
            "max": 440449768,
            "min": 0,
            "orientation": "horizontal",
            "style": "IPY_MODEL_56143a7b9ea64384b7da757c1b034b14",
            "value": 440449768
          }
        },
        "8f6f3286a8c149979aa968ce5d9331dd": {
          "model_module": "@jupyter-widgets/controls",
          "model_name": "HTMLModel",
          "model_module_version": "1.5.0",
          "state": {
            "_dom_classes": [],
            "_model_module": "@jupyter-widgets/controls",
            "_model_module_version": "1.5.0",
            "_model_name": "HTMLModel",
            "_view_count": null,
            "_view_module": "@jupyter-widgets/controls",
            "_view_module_version": "1.5.0",
            "_view_name": "HTMLView",
            "description": "",
            "description_tooltip": null,
            "layout": "IPY_MODEL_4a87e0a12a5049a2abd55a0942b33848",
            "placeholder": "​",
            "style": "IPY_MODEL_d5c56322fc944241a6f71ca81eedcaa9",
            "value": " 440M/440M [00:03&lt;00:00, 140MB/s]"
          }
        },
        "e5dbca9dfe294a54b3eeae922242d89a": {
          "model_module": "@jupyter-widgets/base",
          "model_name": "LayoutModel",
          "model_module_version": "1.2.0",
          "state": {
            "_model_module": "@jupyter-widgets/base",
            "_model_module_version": "1.2.0",
            "_model_name": "LayoutModel",
            "_view_count": null,
            "_view_module": "@jupyter-widgets/base",
            "_view_module_version": "1.2.0",
            "_view_name": "LayoutView",
            "align_content": null,
            "align_items": null,
            "align_self": null,
            "border": null,
            "bottom": null,
            "display": null,
            "flex": null,
            "flex_flow": null,
            "grid_area": null,
            "grid_auto_columns": null,
            "grid_auto_flow": null,
            "grid_auto_rows": null,
            "grid_column": null,
            "grid_gap": null,
            "grid_row": null,
            "grid_template_areas": null,
            "grid_template_columns": null,
            "grid_template_rows": null,
            "height": null,
            "justify_content": null,
            "justify_items": null,
            "left": null,
            "margin": null,
            "max_height": null,
            "max_width": null,
            "min_height": null,
            "min_width": null,
            "object_fit": null,
            "object_position": null,
            "order": null,
            "overflow": null,
            "overflow_x": null,
            "overflow_y": null,
            "padding": null,
            "right": null,
            "top": null,
            "visibility": null,
            "width": null
          }
        },
        "f887360db3b845f5a227ddf68b4d13a3": {
          "model_module": "@jupyter-widgets/base",
          "model_name": "LayoutModel",
          "model_module_version": "1.2.0",
          "state": {
            "_model_module": "@jupyter-widgets/base",
            "_model_module_version": "1.2.0",
            "_model_name": "LayoutModel",
            "_view_count": null,
            "_view_module": "@jupyter-widgets/base",
            "_view_module_version": "1.2.0",
            "_view_name": "LayoutView",
            "align_content": null,
            "align_items": null,
            "align_self": null,
            "border": null,
            "bottom": null,
            "display": null,
            "flex": null,
            "flex_flow": null,
            "grid_area": null,
            "grid_auto_columns": null,
            "grid_auto_flow": null,
            "grid_auto_rows": null,
            "grid_column": null,
            "grid_gap": null,
            "grid_row": null,
            "grid_template_areas": null,
            "grid_template_columns": null,
            "grid_template_rows": null,
            "height": null,
            "justify_content": null,
            "justify_items": null,
            "left": null,
            "margin": null,
            "max_height": null,
            "max_width": null,
            "min_height": null,
            "min_width": null,
            "object_fit": null,
            "object_position": null,
            "order": null,
            "overflow": null,
            "overflow_x": null,
            "overflow_y": null,
            "padding": null,
            "right": null,
            "top": null,
            "visibility": null,
            "width": null
          }
        },
        "c463b0fee53e428cb89dfaaca644e23c": {
          "model_module": "@jupyter-widgets/controls",
          "model_name": "DescriptionStyleModel",
          "model_module_version": "1.5.0",
          "state": {
            "_model_module": "@jupyter-widgets/controls",
            "_model_module_version": "1.5.0",
            "_model_name": "DescriptionStyleModel",
            "_view_count": null,
            "_view_module": "@jupyter-widgets/base",
            "_view_module_version": "1.2.0",
            "_view_name": "StyleView",
            "description_width": ""
          }
        },
        "f61e6ea9072c4fb3a72381956f52ce05": {
          "model_module": "@jupyter-widgets/base",
          "model_name": "LayoutModel",
          "model_module_version": "1.2.0",
          "state": {
            "_model_module": "@jupyter-widgets/base",
            "_model_module_version": "1.2.0",
            "_model_name": "LayoutModel",
            "_view_count": null,
            "_view_module": "@jupyter-widgets/base",
            "_view_module_version": "1.2.0",
            "_view_name": "LayoutView",
            "align_content": null,
            "align_items": null,
            "align_self": null,
            "border": null,
            "bottom": null,
            "display": null,
            "flex": null,
            "flex_flow": null,
            "grid_area": null,
            "grid_auto_columns": null,
            "grid_auto_flow": null,
            "grid_auto_rows": null,
            "grid_column": null,
            "grid_gap": null,
            "grid_row": null,
            "grid_template_areas": null,
            "grid_template_columns": null,
            "grid_template_rows": null,
            "height": null,
            "justify_content": null,
            "justify_items": null,
            "left": null,
            "margin": null,
            "max_height": null,
            "max_width": null,
            "min_height": null,
            "min_width": null,
            "object_fit": null,
            "object_position": null,
            "order": null,
            "overflow": null,
            "overflow_x": null,
            "overflow_y": null,
            "padding": null,
            "right": null,
            "top": null,
            "visibility": null,
            "width": null
          }
        },
        "56143a7b9ea64384b7da757c1b034b14": {
          "model_module": "@jupyter-widgets/controls",
          "model_name": "ProgressStyleModel",
          "model_module_version": "1.5.0",
          "state": {
            "_model_module": "@jupyter-widgets/controls",
            "_model_module_version": "1.5.0",
            "_model_name": "ProgressStyleModel",
            "_view_count": null,
            "_view_module": "@jupyter-widgets/base",
            "_view_module_version": "1.2.0",
            "_view_name": "StyleView",
            "bar_color": null,
            "description_width": ""
          }
        },
        "4a87e0a12a5049a2abd55a0942b33848": {
          "model_module": "@jupyter-widgets/base",
          "model_name": "LayoutModel",
          "model_module_version": "1.2.0",
          "state": {
            "_model_module": "@jupyter-widgets/base",
            "_model_module_version": "1.2.0",
            "_model_name": "LayoutModel",
            "_view_count": null,
            "_view_module": "@jupyter-widgets/base",
            "_view_module_version": "1.2.0",
            "_view_name": "LayoutView",
            "align_content": null,
            "align_items": null,
            "align_self": null,
            "border": null,
            "bottom": null,
            "display": null,
            "flex": null,
            "flex_flow": null,
            "grid_area": null,
            "grid_auto_columns": null,
            "grid_auto_flow": null,
            "grid_auto_rows": null,
            "grid_column": null,
            "grid_gap": null,
            "grid_row": null,
            "grid_template_areas": null,
            "grid_template_columns": null,
            "grid_template_rows": null,
            "height": null,
            "justify_content": null,
            "justify_items": null,
            "left": null,
            "margin": null,
            "max_height": null,
            "max_width": null,
            "min_height": null,
            "min_width": null,
            "object_fit": null,
            "object_position": null,
            "order": null,
            "overflow": null,
            "overflow_x": null,
            "overflow_y": null,
            "padding": null,
            "right": null,
            "top": null,
            "visibility": null,
            "width": null
          }
        },
        "d5c56322fc944241a6f71ca81eedcaa9": {
          "model_module": "@jupyter-widgets/controls",
          "model_name": "DescriptionStyleModel",
          "model_module_version": "1.5.0",
          "state": {
            "_model_module": "@jupyter-widgets/controls",
            "_model_module_version": "1.5.0",
            "_model_name": "DescriptionStyleModel",
            "_view_count": null,
            "_view_module": "@jupyter-widgets/base",
            "_view_module_version": "1.2.0",
            "_view_name": "StyleView",
            "description_width": ""
          }
        }
      }
    }
  },
  "cells": [
    {
      "cell_type": "code",
      "execution_count": 4,
      "metadata": {
        "id": "PqPlfM6akMl3"
      },
      "outputs": [],
      "source": [
        "# Importing necessary modules and functions\n",
        "import os\n",
        "import torch\n",
        "from torch import nn\n",
        "from torch.utils.data import DataLoader, Dataset\n",
        "from transformers import BertTokenizer, BertModel, AdamW, get_linear_schedule_with_warmup\n",
        "from sklearn.model_selection import train_test_split\n",
        "from sklearn.metrics import accuracy_score, classification_report\n",
        "import pandas as pd\n",
        "import io\n",
        "\n",
        "# Function to load TripAdvisor data\n",
        "def load_tripadvisor_data(data_file, num_rows=2000, num_clssifier_rows=50):\n",
        "    \"\"\"\n",
        "      Load TripAdvisor data from a CSV file.\n",
        "\n",
        "      Args:\n",
        "      - data_file (str): Path to the CSV file containing the data.\n",
        "      - num_rows (int): Maximum number of rows to consider from the data file.\n",
        "      - num_clssifier_rows (int): Number of rows to use for classification purposes.\n",
        "\n",
        "      Returns:\n",
        "      - texts_equal (list): List of equalized texts.\n",
        "      - labels_equal (list): List of equalized labels corresponding to the texts_equal.\n",
        "      - classifying_texts (list): List of texts for classification purposes.\n",
        "      - classifying_labels (list): List of labels corresponding to the classifying_texts.\n",
        "    \"\"\"\n",
        "\n",
        "    df = pd.read_csv(data_file, encoding='utf-8')\n",
        "    texts = df['Review'].tolist()\n",
        "    labels = df['Rating'].tolist()\n",
        "\n",
        "    df_equal = df.groupby('Rating', group_keys=False).apply(lambda x: x.sample(min(len(x), 400)))\n",
        "\n",
        "    if len(df_equal) > num_rows:\n",
        "        df_equal = df_equal.groupby('Rating', group_keys=False).apply(lambda x: x.sample(min(len(x), num_rows // 5)))\n",
        "\n",
        "    texts_equal = df_equal['Review'].tolist()\n",
        "    labels_equal = [0 if rating == 1 else 1 if rating == 2 else 2 if rating == 3 else 3 if rating == 4 else 4 for rating in df_equal['Rating'].tolist()]\n",
        "\n",
        "    classifying_texts = []\n",
        "    classifying_labels = []\n",
        "    for index, row in df.iterrows():\n",
        "        if row['Review'] not in texts_equal:\n",
        "            classifying_texts.append(row['Review'])\n",
        "            classifying_labels.append(0 if row['Rating'] == 1 else 1 if row['Rating'] == 2 else 2 if row['Rating'] == 3 else 3 if row['Rating'] == 4 else 4)\n",
        "\n",
        "        if len(classifying_texts) == num_clssifier_rows:\n",
        "            break\n",
        "\n",
        "    return texts_equal, labels_equal, classifying_texts, classifying_labels"
      ]
    },
    {
      "cell_type": "code",
      "source": [
        "# Load google drive files (next step is to add csv file with dataset into the selected drive)\n",
        "from google.colab import drive\n",
        "\n",
        "# Mount Google Drive to '/content/drive'\n",
        "drive.mount('/content/drive')"
      ],
      "metadata": {
        "colab": {
          "base_uri": "https://localhost:8080/"
        },
        "id": "iPLjdY7imM5-",
        "outputId": "b55ebc6a-809a-4021-b0f9-5410c4e2c0dc"
      },
      "execution_count": 5,
      "outputs": [
        {
          "output_type": "stream",
          "name": "stdout",
          "text": [
            "Mounted at /content/drive\n"
          ]
        }
      ]
    },
    {
      "cell_type": "code",
      "source": [
        "# Defining tripadvisor location on Google Drive\n",
        "# Link to original dataset: https://www.kaggle.com/datasets/andrewmvd/trip-advisor-hotel-reviews?resource=download\n",
        "data_file = '/content/drive/My Drive/datasets/tripadvisor_hotel_reviews.csv'\n",
        "\n",
        "# Calling the load_tripadvisor_data function with the specified data_file\n",
        "texts, labels, classifying_texts, classifying_labels = load_tripadvisor_data(data_file)"
      ],
      "metadata": {
        "id": "PGq9QGHrpel3"
      },
      "execution_count": 6,
      "outputs": []
    },
    {
      "cell_type": "code",
      "source": [
        "# Dataset class for classification\n",
        "class TextClassificationDataset(Dataset):\n",
        "  def __init__(self, texts, labels, tokenizer, max_length):\n",
        "          \"\"\"\n",
        "            Initialize the TextClassificationDataset.\n",
        "\n",
        "            Args:\n",
        "            - texts (list): List of texts.\n",
        "            - labels (list): List of corresponding labels.\n",
        "            - tokenizer (object): Tokenizer object for tokenizing the texts.\n",
        "            - max_length (int): Maximum length for tokenization.\n",
        "\n",
        "            Returns:\n",
        "              None\n",
        "          \"\"\"\n",
        "\n",
        "          self.texts = texts\n",
        "          self.labels = labels\n",
        "          self.tokenizer = tokenizer\n",
        "          self.max_length = max_length\n",
        "  def __len__(self):\n",
        "          \"\"\"\n",
        "            Get the length of the dataset.\n",
        "\n",
        "            Returns:\n",
        "            int: Length of the dataset.\n",
        "          \"\"\"\n",
        "\n",
        "          return len(self.texts)\n",
        "  def __getitem__(self, idx):\n",
        "          \"\"\"\n",
        "            Get a sample from the dataset at the specified index.\n",
        "\n",
        "            Args:\n",
        "            - idx (int): Index of the sample to retrieve.\n",
        "\n",
        "            Returns:\n",
        "            dict: A dictionary containing the tokenized input, attention mask, and label.\n",
        "          \"\"\"\n",
        "\n",
        "          text = self.texts[idx]\n",
        "          label = self.labels[idx]\n",
        "\n",
        "          # Tokenize the text using the provided tokenizer\n",
        "          encoding = self.tokenizer(text, return_tensors='pt', max_length=self.max_length, padding='max_length', truncation=True)\n",
        "\n",
        "          # Return a dictionary containing the tokenized input, attention mask, and label\n",
        "          return {'input_ids': encoding['input_ids'].flatten(), 'attention_mask': encoding['attention_mask'].flatten(), 'label': torch.tensor(label)}"
      ],
      "metadata": {
        "id": "ocdtUIwMqj07"
      },
      "execution_count": null,
      "outputs": []
    },
    {
      "cell_type": "code",
      "source": [
        "import torch.nn as nn\n",
        "\n",
        "# BERT-based classifier model\n",
        "class BERTClassifier(nn.Module):\n",
        "    def __init__(self, bert_model_name, num_classes):\n",
        "        \"\"\"\n",
        "          Initialize the BERT-based classifier model.\n",
        "\n",
        "          Args:\n",
        "          - bert_model_name (str): Name of the BERT model to use.\n",
        "          - num_classes (int): Number of classes for classification.\n",
        "\n",
        "          Returns:\n",
        "          None\n",
        "        \"\"\"\n",
        "\n",
        "        super(BERTClassifier, self).__init__()\n",
        "\n",
        "        # Load the BERT model\n",
        "        self.bert = BertModel.from_pretrained(bert_model_name)\n",
        "\n",
        "        # Dropout layer for regularization\n",
        "        self.dropout = nn.Dropout(0.1)\n",
        "\n",
        "        # Fully connected layer for classification\n",
        "        self.fc = nn.Linear(self.bert.config.hidden_size, num_classes)\n",
        "\n",
        "    def forward(self, input_ids, attention_mask):\n",
        "        \"\"\"\n",
        "          Forward pass of the classifier model.\n",
        "\n",
        "          Args:\n",
        "          - input_ids (tensor): Tensor containing the input token IDs.\n",
        "          - attention_mask (tensor): Tensor containing the attention mask.\n",
        "\n",
        "          Returns:\n",
        "          tensor: Logits produced by the classifier.\n",
        "        \"\"\"\n",
        "\n",
        "        # Pass input through the BERT model\n",
        "        outputs = self.bert(input_ids=input_ids, attention_mask=attention_mask)\n",
        "\n",
        "        # Extract the pooled output (CLS token representation)\n",
        "        pooled_output = outputs.pooler_output\n",
        "\n",
        "        # Apply dropout for regularization\n",
        "        x = self.dropout(pooled_output)\n",
        "\n",
        "        # Apply fully connected layer for classification\n",
        "        logits = self.fc(x)\n",
        "        return logits"
      ],
      "metadata": {
        "id": "_QwrfLvRrLc7"
      },
      "execution_count": 7,
      "outputs": []
    },
    {
      "cell_type": "code",
      "source": [
        "# Model training function\n",
        "def train(model, data_loader, optimizer, scheduler, device):\n",
        "    \"\"\"\n",
        "      Train the provided model using the given data loader.\n",
        "\n",
        "      Args:\n",
        "      - model (nn.Module): The model to train.\n",
        "      - data_loader (DataLoader): DataLoader containing the training data.\n",
        "      - optimizer (optim.Optimizer): Optimizer for updating model parameters.\n",
        "      - scheduler (optim.lr_scheduler._LRScheduler): Scheduler for adjusting learning rate.\n",
        "      - device (str): Device (cpu or cuda) on which to perform training.\n",
        "\n",
        "      Returns:\n",
        "        None\n",
        "    \"\"\"\n",
        "    # Set the model to training mode\n",
        "    model.train()\n",
        "\n",
        "    # Iterate over batches in the data loader\n",
        "    for batch in data_loader:\n",
        "        optimizer.zero_grad()\n",
        "        input_ids = batch['input_ids'].to(device)\n",
        "        attention_mask = batch['attention_mask'].to(device)\n",
        "        labels = batch['label'].to(device)\n",
        "        outputs = model(input_ids=input_ids, attention_mask=attention_mask)\n",
        "        loss = nn.CrossEntropyLoss()(outputs, labels)\n",
        "        loss.backward()\n",
        "        optimizer.step()\n",
        "        scheduler.step()"
      ],
      "metadata": {
        "id": "UrWON7RHrTXq"
      },
      "execution_count": null,
      "outputs": []
    },
    {
      "cell_type": "code",
      "source": [
        "# Model evaluation function\n",
        "def evaluate(model, data_loader, device):\n",
        "    \"\"\"\n",
        "      Evaluate the provided model using the given data loader.\n",
        "\n",
        "      Args:\n",
        "      - model (nn.Module): The model to evaluate.\n",
        "      - data_loader (DataLoader): DataLoader containing the evaluation data.\n",
        "      - device (str): Device (cpu or cuda) on which to perform evaluation.\n",
        "\n",
        "      Returns:\n",
        "      - accuracy (float): Accuracy of the model on the evaluation data.\n",
        "      - classification_report (str): Classification report containing precision, recall, and F1-score.\n",
        "    \"\"\"\n",
        "    model.eval()\n",
        "    predictions = []\n",
        "    actual_labels = []\n",
        "    with torch.no_grad():\n",
        "        for batch in data_loader:\n",
        "            input_ids = batch['input_ids'].to(device)\n",
        "            attention_mask = batch['attention_mask'].to(device)\n",
        "            labels = batch['label'].to(device)\n",
        "            outputs = model(input_ids=input_ids, attention_mask=attention_mask)\n",
        "            _, preds = torch.max(outputs, dim=1)\n",
        "            predictions.extend(preds.cpu().tolist())\n",
        "            actual_labels.extend(labels.cpu().tolist())\n",
        "    return accuracy_score(actual_labels, predictions), classification_report(actual_labels, predictions)"
      ],
      "metadata": {
        "id": "9uqDDKaNrXtZ"
      },
      "execution_count": null,
      "outputs": []
    },
    {
      "cell_type": "code",
      "source": [
        "# Prediction function\n",
        "def predict_rating(text, model, tokenizer, device, max_length=128):\n",
        "    \"\"\"\n",
        "      Predict the rating category for the given text using the provided model and tokenizer.\n",
        "\n",
        "      Args:\n",
        "      - text (str): The input text to predict the rating category for.\n",
        "      - model (nn.Module): The trained model for prediction.\n",
        "      - tokenizer (Tokenizer): Tokenizer object for tokenizing the text.\n",
        "      - device (str): Device (cpu or cuda) on which to perform prediction.\n",
        "      - max_length (int): Maximum length for tokenization.\n",
        "\n",
        "      Returns:\n",
        "      - rating_category (str): Predicted rating category for the text.\n",
        "    \"\"\"\n",
        "    model.eval()\n",
        "    encoding = tokenizer(text, return_tensors='pt', max_length=max_length, padding='max_length', truncation=True)\n",
        "    input_ids = encoding['input_ids'].to(device)\n",
        "    attention_mask = encoding['attention_mask'].to(device)\n",
        "    with torch.no_grad():\n",
        "            outputs = model(input_ids=input_ids, attention_mask=attention_mask)\n",
        "            _, preds = torch.max(outputs, dim=1)\n",
        "    return \"negative\" if preds.item() == 0 else \"below average\" if preds.item() == 1 else \"average\" if preds.item() == 2 else \"above average\" if preds.item() == 3 else \"positive\" if preds.item() == 4 else \"none\""
      ],
      "metadata": {
        "id": "m_ki8su9rdI4"
      },
      "execution_count": null,
      "outputs": []
    },
    {
      "cell_type": "code",
      "source": [
        "# Model parameters (learning rate, batch size, ...)\n",
        "bert_model_name = 'bert-base-uncased'\n",
        "num_classes = 5\n",
        "max_length = 128\n",
        "batch_size = 16\n",
        "num_epochs = 2\n",
        "learning_rate = 2e-5"
      ],
      "metadata": {
        "id": "mymYW0tNsGPx"
      },
      "execution_count": null,
      "outputs": []
    },
    {
      "cell_type": "code",
      "source": [
        "# Split data into training and validation set\n",
        "train_texts, val_texts, train_labels, val_labels = train_test_split(texts, labels, test_size=0.20, random_state=42)"
      ],
      "metadata": {
        "id": "l3ggnQ7lsNyS"
      },
      "execution_count": null,
      "outputs": []
    },
    {
      "cell_type": "code",
      "source": [
        "# Tokenizer, datasets and loaders\n",
        "tokenizer = BertTokenizer.from_pretrained(bert_model_name)\n",
        "train_dataset = TextClassificationDataset(train_texts, train_labels, tokenizer, max_length)\n",
        "val_dataset = TextClassificationDataset(val_texts, val_labels, tokenizer, max_length)\n",
        "train_dataloader = DataLoader(train_dataset, batch_size=batch_size, shuffle=True)\n",
        "val_dataloader = DataLoader(val_dataset, batch_size=batch_size)"
      ],
      "metadata": {
        "colab": {
          "base_uri": "https://localhost:8080/",
          "height": 274,
          "referenced_widgets": [
            "c87be1e295434c91b2a7feb9428c4a3c",
            "b0dae0e872924a9d804a3b372ee90c84",
            "ff3f0231bfaa4fdfa3f9d07913efb755",
            "ffa27f81c7284b0ab430b0be99f5f5b0",
            "0992954e847142c0a03907b08fbd895e",
            "fcd659e8e4304f249550e449903fbfc3",
            "6458f4b47ba34b5bb170bc7fa107e0e8",
            "94c23233121c48ad9d2d00453f8e2130",
            "516ec0b341604f90a6858376b6ff669e",
            "96bb0911695f4bc69caf860601f804e1",
            "34834a4759a94994a828902b6d6224eb",
            "09a6b1fea2fc4ff5a04465aaf164be62",
            "00742029384c4b72b6f669cfb42855b0",
            "ac1a791c5d8540108695f249ba7259e0",
            "55e89d341bab4abead841ead3ff21663",
            "f2278999714b4eceacb404da2c0843c3",
            "5dd1869cb4a04f6fb4310e447f8fae68",
            "c2298ffe104f40bdb040ae579f3a5502",
            "c542e97bdc4544698f6b8cc02664de5d",
            "cba827b0df0c4b6aad7545a0841230e2",
            "5800f19df2a549898306ecf8dafcd14e",
            "fc59c04dec0e4fa7ac37a1f5895b1efa",
            "625922e6ec3643af892a8580394bd04d",
            "0a481e03d8534829a8e036ace2993561",
            "82035b5fd07f49ccb2f850892267cfd0",
            "fec7f68a4d7542d8b7abb4fb37f14b9f",
            "09e0b51cf41a4779b25f110ca148a071",
            "8bb8bb1733874f71b6f0927ecf88a9e5",
            "fdbc0d773eb8424c99ad90ec10927568",
            "4af440b5d1474a6caa1429d59d7dadbb",
            "3d441aac1e0542f3bf6f3042d4cb30a8",
            "7be2a2c5b1974834bae68d40b02ac966",
            "84867b931e9144e0b3c84cb94f549bd7",
            "c63e35a8e1b5484794ea8aac09e484c4",
            "ea8ba59fb4b145478e13ad38c1926e87",
            "4c61732189294ca3bc9169ccb49f8ef4",
            "b9139520dc48461bbbb2faeb7c26bc37",
            "bbc6778da24a46d69858598e1c5c82a9",
            "313b4d188eb14c528b0a252510f42c2e",
            "aafb00ed59e049279a30ec1cf1aea6b0",
            "8a4336246d0c457aad16f0289963ae5c",
            "de8b71d0e8d947188aaa4aa7c9fe6f49",
            "4df41d7de06846ca91f45ad470b6b560",
            "e1a90704b117445a85c78aa18e682c76"
          ]
        },
        "id": "PSX8NbHUsQVU",
        "outputId": "fc69053a-9f69-48ad-a573-5a4dee272c00"
      },
      "execution_count": null,
      "outputs": [
        {
          "output_type": "stream",
          "name": "stderr",
          "text": [
            "/usr/local/lib/python3.10/dist-packages/huggingface_hub/utils/_token.py:88: UserWarning: \n",
            "The secret `HF_TOKEN` does not exist in your Colab secrets.\n",
            "To authenticate with the Hugging Face Hub, create a token in your settings tab (https://huggingface.co/settings/tokens), set it as secret in your Google Colab and restart your session.\n",
            "You will be able to reuse this secret in all of your notebooks.\n",
            "Please note that authentication is recommended but still optional to access public models or datasets.\n",
            "  warnings.warn(\n"
          ]
        },
        {
          "output_type": "display_data",
          "data": {
            "text/plain": [
              "tokenizer_config.json:   0%|          | 0.00/48.0 [00:00<?, ?B/s]"
            ],
            "application/vnd.jupyter.widget-view+json": {
              "version_major": 2,
              "version_minor": 0,
              "model_id": "c87be1e295434c91b2a7feb9428c4a3c"
            }
          },
          "metadata": {}
        },
        {
          "output_type": "display_data",
          "data": {
            "text/plain": [
              "vocab.txt:   0%|          | 0.00/232k [00:00<?, ?B/s]"
            ],
            "application/vnd.jupyter.widget-view+json": {
              "version_major": 2,
              "version_minor": 0,
              "model_id": "09a6b1fea2fc4ff5a04465aaf164be62"
            }
          },
          "metadata": {}
        },
        {
          "output_type": "display_data",
          "data": {
            "text/plain": [
              "tokenizer.json:   0%|          | 0.00/466k [00:00<?, ?B/s]"
            ],
            "application/vnd.jupyter.widget-view+json": {
              "version_major": 2,
              "version_minor": 0,
              "model_id": "625922e6ec3643af892a8580394bd04d"
            }
          },
          "metadata": {}
        },
        {
          "output_type": "display_data",
          "data": {
            "text/plain": [
              "config.json:   0%|          | 0.00/570 [00:00<?, ?B/s]"
            ],
            "application/vnd.jupyter.widget-view+json": {
              "version_major": 2,
              "version_minor": 0,
              "model_id": "c63e35a8e1b5484794ea8aac09e484c4"
            }
          },
          "metadata": {}
        }
      ]
    },
    {
      "cell_type": "code",
      "source": [
        "# Setup device for training and model\n",
        "device = torch.device(\"cuda\" if torch.cuda.is_available() else \"cpu\")\n",
        "model = BERTClassifier(bert_model_name, num_classes).to(device)"
      ],
      "metadata": {
        "colab": {
          "base_uri": "https://localhost:8080/",
          "height": 49,
          "referenced_widgets": [
            "f015aa2ac2b84624b677df0c277f3043",
            "6bfd5bb2c8064681a4e012ea7ceedc44",
            "450f9abbab2743578b2958e1aa080204",
            "8f6f3286a8c149979aa968ce5d9331dd",
            "e5dbca9dfe294a54b3eeae922242d89a",
            "f887360db3b845f5a227ddf68b4d13a3",
            "c463b0fee53e428cb89dfaaca644e23c",
            "f61e6ea9072c4fb3a72381956f52ce05",
            "56143a7b9ea64384b7da757c1b034b14",
            "4a87e0a12a5049a2abd55a0942b33848",
            "d5c56322fc944241a6f71ca81eedcaa9"
          ]
        },
        "id": "_M0T8pb-sbIn",
        "outputId": "545318b8-b429-483d-f53a-5b236e090d2d"
      },
      "execution_count": null,
      "outputs": [
        {
          "output_type": "display_data",
          "data": {
            "text/plain": [
              "model.safetensors:   0%|          | 0.00/440M [00:00<?, ?B/s]"
            ],
            "application/vnd.jupyter.widget-view+json": {
              "version_major": 2,
              "version_minor": 0,
              "model_id": "f015aa2ac2b84624b677df0c277f3043"
            }
          },
          "metadata": {}
        }
      ]
    },
    {
      "cell_type": "code",
      "source": [
        "# Setup optimizer for optimized training\n",
        "optimizer = AdamW(model.parameters(), lr=learning_rate)\n",
        "total_steps = len(train_dataloader) * num_epochs\n",
        "scheduler = get_linear_schedule_with_warmup(optimizer, num_warmup_steps=0, num_training_steps=total_steps)"
      ],
      "metadata": {
        "colab": {
          "base_uri": "https://localhost:8080/"
        },
        "id": "_Jt-SSV3sgCb",
        "outputId": "2d202a47-b19c-4521-bdf2-dba2e5e87a63"
      },
      "execution_count": null,
      "outputs": [
        {
          "output_type": "stream",
          "name": "stderr",
          "text": [
            "/usr/local/lib/python3.10/dist-packages/transformers/optimization.py:521: FutureWarning: This implementation of AdamW is deprecated and will be removed in a future version. Use the PyTorch implementation torch.optim.AdamW instead, or set `no_deprecation_warning=True` to disable this warning\n",
            "  warnings.warn(\n"
          ]
        }
      ]
    },
    {
      "cell_type": "code",
      "source": [
        "# Training\n",
        "for epoch in range(num_epochs):\n",
        "        print(f\"Epoch {epoch + 1}/{num_epochs}\")\n",
        "        train(model, train_dataloader, optimizer, scheduler, device)\n",
        "        accuracy, report = evaluate(model, val_dataloader, device)\n",
        "        print(f\"Validation Accuracy: {accuracy:.4f}\")\n",
        "        print(report)"
      ],
      "metadata": {
        "colab": {
          "base_uri": "https://localhost:8080/"
        },
        "id": "Yk2rQTZMsmeY",
        "outputId": "b1dcce5d-498a-4094-9b46-8ad84070dfe2"
      },
      "execution_count": null,
      "outputs": [
        {
          "output_type": "stream",
          "name": "stdout",
          "text": [
            "Epoch 1/2\n"
          ]
        },
        {
          "output_type": "stream",
          "name": "stderr",
          "text": [
            "/usr/local/lib/python3.10/dist-packages/sklearn/metrics/_classification.py:1344: UndefinedMetricWarning: Precision and F-score are ill-defined and being set to 0.0 in labels with no predicted samples. Use `zero_division` parameter to control this behavior.\n",
            "  _warn_prf(average, modifier, msg_start, len(result))\n",
            "/usr/local/lib/python3.10/dist-packages/sklearn/metrics/_classification.py:1344: UndefinedMetricWarning: Precision and F-score are ill-defined and being set to 0.0 in labels with no predicted samples. Use `zero_division` parameter to control this behavior.\n",
            "  _warn_prf(average, modifier, msg_start, len(result))\n",
            "/usr/local/lib/python3.10/dist-packages/sklearn/metrics/_classification.py:1344: UndefinedMetricWarning: Precision and F-score are ill-defined and being set to 0.0 in labels with no predicted samples. Use `zero_division` parameter to control this behavior.\n",
            "  _warn_prf(average, modifier, msg_start, len(result))\n"
          ]
        },
        {
          "output_type": "stream",
          "name": "stdout",
          "text": [
            "Validation Accuracy: 0.4375\n",
            "              precision    recall  f1-score   support\n",
            "\n",
            "           0       0.45      0.95      0.61        83\n",
            "           1       0.27      0.07      0.12        82\n",
            "           2       0.00      0.00      0.00        68\n",
            "           3       0.24      0.13      0.17        77\n",
            "           4       0.50      0.89      0.64        90\n",
            "\n",
            "    accuracy                           0.44       400\n",
            "   macro avg       0.29      0.41      0.31       400\n",
            "weighted avg       0.31      0.44      0.33       400\n",
            "\n",
            "Epoch 2/2\n",
            "Validation Accuracy: 0.5400\n",
            "              precision    recall  f1-score   support\n",
            "\n",
            "           0       0.66      0.77      0.71        83\n",
            "           1       0.48      0.34      0.40        82\n",
            "           2       0.45      0.43      0.44        68\n",
            "           3       0.37      0.21      0.27        77\n",
            "           4       0.58      0.88      0.70        90\n",
            "\n",
            "    accuracy                           0.54       400\n",
            "   macro avg       0.51      0.52      0.50       400\n",
            "weighted avg       0.51      0.54      0.51       400\n",
            "\n"
          ]
        }
      ]
    },
    {
      "cell_type": "code",
      "source": [
        "# Saving final model so we can test it\n",
        "torch.save(model.state_dict(), \"bert_classifier.pth\")"
      ],
      "metadata": {
        "id": "Q3OWHOki88hR"
      },
      "execution_count": null,
      "outputs": []
    },
    {
      "cell_type": "code",
      "source": [
        "# Test rating prediction with our dummy comments\n",
        "test_text = \"The hotel was great and I really enjoyed my time there.\"\n",
        "rating = predict_rating(test_text, model, tokenizer, device)\n",
        "print(test_text)\n",
        "print(f\"Predicted rating: {rating}\")"
      ],
      "metadata": {
        "colab": {
          "base_uri": "https://localhost:8080/"
        },
        "id": "HCthGKWv9C-W",
        "outputId": "4859b0f7-9216-4417-b47f-c82048ee32fd"
      },
      "execution_count": null,
      "outputs": [
        {
          "output_type": "stream",
          "name": "stdout",
          "text": [
            "The hotel was great and I really enjoyed my time there.\n",
            "Predicted rating: positive\n"
          ]
        }
      ]
    },
    {
      "cell_type": "code",
      "source": [
        "# Test rating prediction with our dummy comments\n",
        "test_text = \"The hotel was so bad and I would not recommend it to anyone.\"\n",
        "rating = predict_rating(test_text, model, tokenizer, device)\n",
        "print(test_text)\n",
        "print(f\"Predicted rating: {rating}\")"
      ],
      "metadata": {
        "colab": {
          "base_uri": "https://localhost:8080/"
        },
        "id": "Smki1OUl9Olv",
        "outputId": "e556769d-2cc5-40ae-f456-ced1d98e2eb0"
      },
      "execution_count": null,
      "outputs": [
        {
          "output_type": "stream",
          "name": "stdout",
          "text": [
            "The hotel was so bad and I would not recommend it to anyone.\n",
            "Predicted rating: negative\n"
          ]
        }
      ]
    },
    {
      "cell_type": "code",
      "source": [
        "# Test rating prediction with our dummy comments\n",
        "test_text = \"Worst hotel ever.\"\n",
        "rating = predict_rating(test_text, model, tokenizer, device)\n",
        "print(test_text)\n",
        "print(f\"Predicted rating: {rating}\")"
      ],
      "metadata": {
        "colab": {
          "base_uri": "https://localhost:8080/"
        },
        "id": "Ey2BOXn79YxQ",
        "outputId": "d8936d0e-eb75-455d-9a9a-6f84ffef7023"
      },
      "execution_count": null,
      "outputs": [
        {
          "output_type": "stream",
          "name": "stdout",
          "text": [
            "Worst hotel ever.\n",
            "Predicted rating: negative\n"
          ]
        }
      ]
    },
    {
      "cell_type": "code",
      "source": [
        "# Test rating prediction with our dummy comments\n",
        "test_text = \"Woman at reception was so angry but beautiful\"\n",
        "rating = predict_rating(test_text, model, tokenizer, device)\n",
        "print(test_text)\n",
        "print(f\"Predicted rating: {rating}\")"
      ],
      "metadata": {
        "colab": {
          "base_uri": "https://localhost:8080/"
        },
        "id": "WyTQ7-pojpQ5",
        "outputId": "44b9bcdb-ba00-421f-8e05-6598a2aceb94"
      },
      "execution_count": null,
      "outputs": [
        {
          "output_type": "stream",
          "name": "stdout",
          "text": [
            "Woman at reception was so angry but beautiful\n",
            "Predicted rating: negative\n"
          ]
        }
      ]
    },
    {
      "cell_type": "code",
      "source": [
        "# Test rating prediction with our dummy comments\n",
        "test_text = \"My recent stay at the Riverside Hotel was decent, though it left something to be desired. The location was convenient, situated close to downtown and with easy access to public transportation. The lobby and common areas were clean and well-maintained, creating a pleasant first impression.However, once I got to my room, I noticed a few issues. While it was clean, the furnishings seemed a bit outdated, and the overall decor could use a refresh. The bed was comfortable enough, but the linens were a bit worn, and there were some stains on the carpet. The bathroom was functional but lacked some of the amenities I have come to expect from similar hotels.\"\n",
        "rating = predict_rating(test_text, model, tokenizer, device)\n",
        "print(test_text)\n",
        "print(f\"Predicted rating: {rating}\")"
      ],
      "metadata": {
        "colab": {
          "base_uri": "https://localhost:8080/"
        },
        "id": "hCnYcJ5Pjypy",
        "outputId": "d93133d0-a6c4-40bd-dcd3-42404f817a2a"
      },
      "execution_count": null,
      "outputs": [
        {
          "output_type": "stream",
          "name": "stdout",
          "text": [
            "My recent stay at the Riverside Hotel was decent, though it left something to be desired. The location was convenient, situated close to downtown and with easy access to public transportation. The lobby and common areas were clean and well-maintained, creating a pleasant first impression.However, once I got to my room, I noticed a few issues. While it was clean, the furnishings seemed a bit outdated, and the overall decor could use a refresh. The bed was comfortable enough, but the linens were a bit worn, and there were some stains on the carpet. The bathroom was functional but lacked some of the amenities I have come to expect from similar hotels.\n",
            "Predicted rating: above average\n"
          ]
        }
      ]
    },
    {
      "cell_type": "code",
      "source": [
        "# Test rating prediction with our dummy comments\n",
        "test_text = \"My recent stay at the Lakeside Inn left me with mixed feelings. The location was picturesque, with stunning views of the lake and surrounding mountains. The tranquility of the setting provided a peaceful escape from the hustle and bustle of daily life. Additionally, the check-in process was smooth, and the staff at the front desk were polite and welcoming. However, despite these highlights, there were several aspects of my stay that fell short of expectations. The room I was assigned to was disappointing, to say the least. While it was clean, it lacked the comfort and modern amenities I had hoped for. The furniture appeared worn-out, and the bed was uncomfortably firm, making it difficult to get a good night's sleep. Furthermore, the bathroom was in need of renovation, with outdated fixtures and limited toiletries provided. The dining experience at the hotel's restaurant was another letdown. Although the food was decent, the service was slow, and it took ages for our orders to arrive. The menu options were limited, and the prices seemed a bit steep for the quality of the meals offered.\"\n",
        "rating = predict_rating(test_text, model, tokenizer, device)\n",
        "print(test_text)\n",
        "print(f\"Predicted rating: {rating}\")"
      ],
      "metadata": {
        "colab": {
          "base_uri": "https://localhost:8080/"
        },
        "id": "_49hKLAclV1G",
        "outputId": "74cf0890-0b8c-45da-8529-1879d37d157d"
      },
      "execution_count": null,
      "outputs": [
        {
          "output_type": "stream",
          "name": "stdout",
          "text": [
            "My recent stay at the Lakeside Inn left me with mixed feelings. The location was picturesque, with stunning views of the lake and surrounding mountains. The tranquility of the setting provided a peaceful escape from the hustle and bustle of daily life. Additionally, the check-in process was smooth, and the staff at the front desk were polite and welcoming. However, despite these highlights, there were several aspects of my stay that fell short of expectations. The room I was assigned to was disappointing, to say the least. While it was clean, it lacked the comfort and modern amenities I had hoped for. The furniture appeared worn-out, and the bed was uncomfortably firm, making it difficult to get a good night's sleep. Furthermore, the bathroom was in need of renovation, with outdated fixtures and limited toiletries provided. The dining experience at the hotel's restaurant was another letdown. Although the food was decent, the service was slow, and it took ages for our orders to arrive. The menu options were limited, and the prices seemed a bit steep for the quality of the meals offered.\n",
            "Predicted rating: above average\n"
          ]
        }
      ]
    },
    {
      "cell_type": "code",
      "source": [
        "# Test rating prediction with our dummy comments\n",
        "test_text = \"My recent experience at the Sunset Hotel was incredibly disappointing, to say the least. Where do I even begin? Firstly, let's talk about the room. It was nothing short of a disaster. The cleanliness was severely lacking, with visible stains on the carpet and bedding that made me question when they were last washed. The furniture looked like it had been salvaged from a thrift store, and the overall ambiance was far from inviting. ut wait, it gets worse. The bathroom was a nightmare. Not only was it outdated, but it also had mold growing in the corners and a foul odor that permeated the entire room. I felt like I needed a hazmat suit just to step inside.\"\n",
        "rating = predict_rating(test_text, model, tokenizer, device)\n",
        "print(test_text)\n",
        "print(f\"Predicted rating: {rating}\")"
      ],
      "metadata": {
        "colab": {
          "base_uri": "https://localhost:8080/"
        },
        "id": "kjPag4AkkyXy",
        "outputId": "7528d75c-f631-425c-e586-c80221bc09a5"
      },
      "execution_count": null,
      "outputs": [
        {
          "output_type": "stream",
          "name": "stdout",
          "text": [
            "My recent experience at the Sunset Hotel was incredibly disappointing, to say the least. Where do I even begin? Firstly, let's talk about the room. It was nothing short of a disaster. The cleanliness was severely lacking, with visible stains on the carpet and bedding that made me question when they were last washed. The furniture looked like it had been salvaged from a thrift store, and the overall ambiance was far from inviting. ut wait, it gets worse. The bathroom was a nightmare. Not only was it outdated, but it also had mold growing in the corners and a foul odor that permeated the entire room. I felt like I needed a hazmat suit just to step inside.\n",
            "Predicted rating: negative\n"
          ]
        }
      ]
    },
    {
      "cell_type": "code",
      "source": [
        "def predict_rating_percentage(texts, labels, model, tokenizer, device):\n",
        "    \"\"\"\n",
        "      Predict the accuracy percentage of the model on the provided texts and labels.\n",
        "\n",
        "      Args:\n",
        "      - texts (list): List of input texts.\n",
        "      - labels (list): List of corresponding labels.\n",
        "      - model (nn.Module): The trained model for prediction.\n",
        "      - tokenizer (Tokenizer): Tokenizer object for tokenizing the texts.\n",
        "      - device (str): Device (cpu or cuda) on which to perform prediction.\n",
        "\n",
        "      Returns:\n",
        "      - average_accuracy (float): Average accuracy percentage of the model on the provided texts.\n",
        "    \"\"\"\n",
        "    predictions = []\n",
        "    total_accuracy = 0\n",
        "    total_texts = len(texts)\n",
        "    for text, label in zip(texts, labels):\n",
        "        rating = predict_rating(text, model, tokenizer, device)\n",
        "        predicted_rating = 0\n",
        "        if rating == \"negative\":\n",
        "            predicted_rating = 0\n",
        "        elif rating == \"below average\":\n",
        "            predicted_rating = 1\n",
        "        elif rating == \"average\":\n",
        "            predicted_rating = 2\n",
        "        elif rating == \"above average\":\n",
        "            predicted_rating = 3\n",
        "        elif rating == \"positive\":\n",
        "            predicted_rating = 4\n",
        "        else:\n",
        "            predicted_rating = -1  # Unknown label\n",
        "\n",
        "        # Calculate accuracy\n",
        "        if predicted_rating == label:\n",
        "            total_accuracy += 1\n",
        "        else:\n",
        "            # Calculate the difference between predicted and actual rating\n",
        "            difference = abs(predicted_rating - label)\n",
        "            # Calculate accuracy based on the difference\n",
        "            accuracy = 1 - (difference / 4)  # Since ratings range from 0 to 4\n",
        "            total_accuracy += accuracy\n",
        "\n",
        "    average_accuracy = (total_accuracy / total_texts) * 100\n",
        "    return average_accuracy"
      ],
      "metadata": {
        "id": "ClAMhCFm3bjf"
      },
      "execution_count": null,
      "outputs": []
    },
    {
      "cell_type": "code",
      "source": [
        "# 89.5% accuracy is obtained with the provided data for classifying purpose\n",
        "test_accuracy = predict_rating_percentage(classifying_texts, classifying_labels, model, tokenizer, device)\n",
        "print(\"Accuracy:\", test_accuracy, \"%\")"
      ],
      "metadata": {
        "colab": {
          "base_uri": "https://localhost:8080/"
        },
        "id": "rc1-kUb73dY4",
        "outputId": "5beffa64-80a9-4e48-ac1a-4b947e7191cb"
      },
      "execution_count": null,
      "outputs": [
        {
          "output_type": "stream",
          "name": "stdout",
          "text": [
            "Accuracy: 89.5 %\n"
          ]
        }
      ]
    }
  ]
}